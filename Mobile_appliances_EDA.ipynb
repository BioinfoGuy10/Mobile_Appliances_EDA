{
 "cells": [
  {
   "cell_type": "code",
   "execution_count": 130,
   "metadata": {},
   "outputs": [],
   "source": [
    "#############Load libraries#################\n",
    "import pandas as pd\n",
    "import matplotlib.pyplot as plt \n",
    "import numpy as np\n",
    "import csv"
   ]
  },
  {
   "cell_type": "code",
   "execution_count": 131,
   "metadata": {},
   "outputs": [
    {
     "name": "stdout",
     "output_type": "stream",
     "text": [
      "567\n"
     ]
    }
   ],
   "source": [
    "## Read the file#####################\n",
    "product_file = pd.read_csv(\"Mobile_and_applications.csv\")\n",
    "################Convert price column to int#########\n",
    "\n",
    "brands = product_file['Brand']\n",
    "\n",
    "##############Check the number of different brands##############\n",
    "print(brands.nunique())"
   ]
  },
  {
   "cell_type": "code",
   "execution_count": 132,
   "metadata": {},
   "outputs": [
    {
     "data": {
      "text/plain": [
       "4.1 out of 5 stars    260\n",
       "4.0 out of 5 stars    234\n",
       "3.8 out of 5 stars    200\n",
       "3.9 out of 5 stars    195\n",
       "4.2 out of 5 stars    180\n",
       "4.3 out of 5 stars    171\n",
       "3.7 out of 5 stars    156\n",
       "4.4 out of 5 stars    117\n",
       "4.5 out of 5 stars    108\n",
       "3.5 out of 5 stars     98\n",
       "3.4 out of 5 stars     85\n",
       "3.6 out of 5 stars     85\n",
       "3.3 out of 5 stars     79\n",
       "4.6 out of 5 stars     71\n",
       "5.0 out of 5 stars     57\n",
       "-1                     53\n",
       "3.2 out of 5 stars     52\n",
       "3.0 out of 5 stars     40\n",
       "3.1 out of 5 stars     35\n",
       "4.7 out of 5 stars     31\n",
       "2.9 out of 5 stars     24\n",
       "2.8 out of 5 stars     12\n",
       "4.8 out of 5 stars     11\n",
       "4.9 out of 5 stars      7\n",
       "1.0 out of 5 stars      6\n",
       "2.6 out of 5 stars      5\n",
       "2.7 out of 5 stars      5\n",
       "2.5 out of 5 stars      3\n",
       "2.4 out of 5 stars      2\n",
       "2.2 out of 5 stars      2\n",
       "2.1 out of 5 stars      1\n",
       "1.5 out of 5 stars      1\n",
       "1.8 out of 5 stars      1\n",
       "2.0 out of 5 stars      1\n",
       "Name: Ratings, dtype: int64"
      ]
     },
     "execution_count": 132,
     "metadata": {},
     "output_type": "execute_result"
    }
   ],
   "source": [
    "############################Now lets do some EDA#################################\n",
    "###############################What is the most ratings of products?##################\n",
    "product_file['Ratings'].value_counts(ascending=False)\n"
   ]
  },
  {
   "cell_type": "code",
   "execution_count": 133,
   "metadata": {},
   "outputs": [
    {
     "data": {
      "text/plain": [
       "Spigen          110\n",
       "TheGiftKart      63\n",
       "AmazonBasics     55\n",
       "Samsung          33\n",
       "boAt             32\n",
       "               ... \n",
       "MOOSH             1\n",
       "MVYNO             1\n",
       "Anik              1\n",
       "SMILEDRIVE        1\n",
       "MrSpares          1\n",
       "Name: Brand, Length: 275, dtype: int64"
      ]
     },
     "execution_count": 133,
     "metadata": {},
     "output_type": "execute_result"
    }
   ],
   "source": [
    "############################Lets check which brands have the most 4+ ratings#######################\n",
    "brands_and_ratings = product_file[['Brand', 'Ratings']]\n",
    "high_ratings_list = brands_and_ratings[\"Ratings\"].str.startswith(\"4\", na = False)\n",
    "high_ratings_df = brands_and_ratings[high_ratings_list]\n",
    "high_ratings_df['Brand'].value_counts(ascending=False)\n",
    "##############Looks like people like their mobile covers and screen guards more than the mobiles##########"
   ]
  },
  {
   "cell_type": "code",
   "execution_count": 134,
   "metadata": {},
   "outputs": [
    {
     "data": {
      "text/plain": [
       "<matplotlib.legend.Legend at 0x22a6616d488>"
      ]
     },
     "execution_count": 134,
     "metadata": {},
     "output_type": "execute_result"
    },
    {
     "data": {
      "image/png": "[encoded data removed]",
      "text/plain": [
       "<Figure size 432x288 with 1 Axes>"
      ]
     },
     "metadata": {
      "needs_background": "light"
     },
     "output_type": "display_data"
    }
   ],
   "source": [
    "##########Amongst popular brands which has higher ratings\n",
    "brands_list = ['Samsung', 'OnePlus', 'Redmi', 'Oppo', 'Nokia', 'Mi']\n",
    "popular_brands = product_file[product_file[\"Brand\"].isin(brands_list)]\n",
    "four_plus_Ratings = popular_brands['Ratings'].str.startswith(\"4\", na = False)\n",
    "four_plus_df = popular_brands[four_plus_Ratings]\n",
    "plt.hist(popular_brands['Brand'], label='Total Sales')\n",
    "plt.hist(four_plus_df['Brand'], label='Total 4+ Ratings')\n",
    "plt.title(\"Total Sales vs 4+ Ratings\")\n",
    "plt.xlabel(\"Brands\")\n",
    "plt.ylabel(\"Number of Sales and number of high ratings\")\n",
    "plt.legend()\n",
    "#############################OnePlus has more than 90% approval Ratings#####################"
   ]
  },
  {
   "cell_type": "code",
   "execution_count": 135,
   "metadata": {},
   "outputs": [
    {
     "data": {
      "text/html": [
       "<div>\n",
       "<style scoped>\n",
       "    .dataframe tbody tr th:only-of-type {\n",
       "        vertical-align: middle;\n",
       "    }\n",
       "\n",
       "    .dataframe tbody tr th {\n",
       "        vertical-align: top;\n",
       "    }\n",
       "\n",
       "    .dataframe thead th {\n",
       "        text-align: right;\n",
       "    }\n",
       "</style>\n",
       "<table border=\"1\" class=\"dataframe\">\n",
       "  <thead>\n",
       "    <tr style=\"text-align: right;\">\n",
       "      <th></th>\n",
       "      <th>Price Before Discount</th>\n",
       "      <th>Current Price</th>\n",
       "    </tr>\n",
       "    <tr>\n",
       "      <th>Brand</th>\n",
       "      <th></th>\n",
       "      <th></th>\n",
       "    </tr>\n",
       "  </thead>\n",
       "  <tbody>\n",
       "    <tr>\n",
       "      <th>Mi</th>\n",
       "      <td>145620.0</td>\n",
       "      <td>128200.0</td>\n",
       "    </tr>\n",
       "    <tr>\n",
       "      <th>Nokia</th>\n",
       "      <td>46544.0</td>\n",
       "      <td>40776.0</td>\n",
       "    </tr>\n",
       "    <tr>\n",
       "      <th>OnePlus</th>\n",
       "      <td>101168.0</td>\n",
       "      <td>495057.0</td>\n",
       "    </tr>\n",
       "    <tr>\n",
       "      <th>Oppo</th>\n",
       "      <td>75459.0</td>\n",
       "      <td>62580.0</td>\n",
       "    </tr>\n",
       "    <tr>\n",
       "      <th>Redmi</th>\n",
       "      <td>88391.0</td>\n",
       "      <td>378461.0</td>\n",
       "    </tr>\n",
       "    <tr>\n",
       "      <th>Samsung</th>\n",
       "      <td>1207716.0</td>\n",
       "      <td>988108.0</td>\n",
       "    </tr>\n",
       "  </tbody>\n",
       "</table>\n",
       "</div>"
      ],
      "text/plain": [
       "         Price Before Discount  Current Price\n",
       "Brand                                        \n",
       "Mi                    145620.0       128200.0\n",
       "Nokia                  46544.0        40776.0\n",
       "OnePlus               101168.0       495057.0\n",
       "Oppo                   75459.0        62580.0\n",
       "Redmi                  88391.0       378461.0\n",
       "Samsung              1207716.0       988108.0"
      ]
     },
     "execution_count": 135,
     "metadata": {},
     "output_type": "execute_result"
    }
   ],
   "source": [
    "pd.DataFrame(popular_brands)\n",
    "popular_brands['Price Before Discount']\n",
    "popular_brands.groupby('Brand').sum()\n",
    "#popular_brands.loc[popular_brands['Brand'].isin(['Redmi']), ['Price Before Discount']].sum()"
   ]
  },
  {
   "cell_type": "code",
   "execution_count": 168,
   "metadata": {},
   "outputs": [
    {
     "name": "stdout",
     "output_type": "stream",
     "text": [
      "Samsung    37\n",
      "Redmi      29\n",
      "Mi         23\n",
      "OnePlus    13\n",
      "Nokia      10\n",
      "Name: Brand, dtype: int64\n"
     ]
    },
    {
     "data": {
      "text/plain": [
       "<matplotlib.legend.Legend at 0x22a664256c8>"
      ]
     },
     "execution_count": 168,
     "metadata": {},
     "output_type": "execute_result"
    },
    {
     "data": {
      "image/png": "[encoded data removed]",
      "text/plain": [
       "<Figure size 432x288 with 1 Axes>"
      ]
     },
     "metadata": {
      "needs_background": "light"
     },
     "output_type": "display_data"
    }
   ],
   "source": [
    "###################Lets check how many times do popular brands showcase prices ending with 9, such as 999, 1999##########\n",
    "number_end =\"9.0\" \n",
    "# boolean series returned with False at place of NaN\n",
    "str_nu= popular_brands['Current Price'].apply(str)\n",
    "bool_series = str_nu.str.endswith(number_end, na = False)\n",
    "#print(popular_brands['Price Before Discount'])  \n",
    "# displaying filtered dataframe \n",
    "nine_ending_company=popular_brands[bool_series]\n",
    "print(nine_ending_company['Brand'].value_counts(ascending=False))\n",
    "plt.hist(popular_brands['Brand'], label='Selling Prices')\n",
    "plt.hist(nine_ending_company['Brand'], label='Selling prices ending with 9')\n",
    "plt.title(\"Prices ending with 9\")\n",
    "plt.xlabel(\"Brands\")\n",
    "plt.ylabel(\"Number of Sales at prices ending with 9\")\n",
    "plt.legend()"
   ]
  },
  {
   "cell_type": "code",
   "execution_count": null,
   "metadata": {},
   "outputs": [],
   "source": []
  }
 ],
 "metadata": {
  "kernelspec": {
   "display_name": "Python 3",
   "language": "python",
   "name": "python3"
  },
  "language_info": {
   "codemirror_mode": {
    "name": "ipython",
    "version": 3
   },
   "file_extension": ".py",
   "mimetype": "text/x-python",
   "name": "python",
   "nbconvert_exporter": "python",
   "pygments_lexer": "ipython3",
   "version": "3.7.6"
  }
 },
 "nbformat": 4,
 "nbformat_minor": 4
}
